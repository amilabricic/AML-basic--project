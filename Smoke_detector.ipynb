{
  "nbformat": 4,
  "nbformat_minor": 0,
  "metadata": {
    "colab": {
      "provenance": [],
      "collapsed_sections": [
        "-Gt0RNFKz9zs",
        "tLgAkd-Z2Bon",
        "peEj74dfM8Ji",
        "zPY1OwsTMziJ",
        "VChhfF7xH9Im",
        "u6d11YIZOTd4",
        "Xo0CVwboPuNM",
        "bVj8SI67ROgE",
        "6XZE1V6fSIhd",
        "CAAdQLb0ToT_",
        "J3qKUzm1odk7",
        "qWW5nHAR-O4W",
        "Rv1CKN_x-TmS",
        "C8jkE4IfTrKw"
      ]
    },
    "kernelspec": {
      "name": "python3",
      "display_name": "Python 3"
    },
    "language_info": {
      "name": "python"
    }
  },
  "cells": [
    {
      "cell_type": "markdown",
      "source": [
        "A smoke detector is a device that senses smoke, typically as an indicator of fire. Smoke detectors are usually housed in plastic enclosures, typically shaped like a disk about 150 millimetres (6 in) in diameter and 25 millimetres (1 in) thick, but shape and size vary.\n",
        "\n",
        "--> Types of Smoke Detectors\n",
        "\n",
        "- Photoelectric Smoke Detector\n",
        "A photoelectric smoke detector contains a source of infrared, visible, or ultraviolet light, a lens, and a photoelectric receiver. In some types, the light emitted by the light source passes through the air being tested and reaches the photosensor. The received light intensity will be reduced due to scattering from particles of smoke, air-borne dust, or other substances; the circuitry detects the light intensity and generates an alarm if it is below a specified threshold, potentially due to smoke. Such detectors are also known as optical detectors.\n",
        "\n",
        "- Ionization Smoke Detector\n",
        "An ionization smoke detector uses a radioisotope to ionize air. If any smoke particles enter the open chamber, some of the ions will attach to the particles and not be available to carry the current in that chamber. An electronic circuit detects that a current difference has developed between the open and sealed chambers, and sounds the alarm"
      ],
      "metadata": {
        "id": "bhZHt5ri6jZ0"
      }
    },
    {
      "cell_type": "markdown",
      "source": [
        "# 0. Dataset loading"
      ],
      "metadata": {
        "id": "-Gt0RNFKz9zs"
      }
    },
    {
      "cell_type": "code",
      "source": [
        "import pandas as pd\n",
        "import numpy as np\n",
        "import seaborn as sns\n",
        "import matplotlib.pyplot as plt"
      ],
      "metadata": {
        "id": "OCLP69tnz3zL"
      },
      "execution_count": null,
      "outputs": []
    },
    {
      "cell_type": "code",
      "execution_count": null,
      "metadata": {
        "id": "qXHiMYYcxXEY",
        "colab": {
          "base_uri": "https://localhost:8080/"
        },
        "outputId": "8b25cef1-4312-4e49-b362-36ea0da62331"
      },
      "outputs": [
        {
          "output_type": "stream",
          "name": "stdout",
          "text": [
            "/usr/local/lib/python3.7/dist-packages/gdown/cli.py:131: FutureWarning: Option `--id` was deprecated in version 4.3.1 and will be removed in 5.0. You don't need to pass it anymore to use a file ID.\n",
            "  category=FutureWarning,\n",
            "Downloading...\n",
            "From: https://drive.google.com/uc?id=1sTHR7XbwMLvMYxjYVf3u4slNOAb9YFS8\n",
            "To: /content/smoke_detection_iot.csv\n",
            "100% 5.83M/5.83M [00:00<00:00, 121MB/s]\n"
          ]
        }
      ],
      "source": [
        "! gdown --id 1sTHR7XbwMLvMYxjYVf3u4slNOAb9YFS8"
      ]
    },
    {
      "cell_type": "code",
      "source": [
        "filename = 'smoke_detection_iot.csv'\n",
        "data = pd.read_csv(filename)\n",
        "data.drop(\"Unnamed: 0\",axis = 1,inplace = True)\n",
        "data.head()"
      ],
      "metadata": {
        "colab": {
          "base_uri": "https://localhost:8080/",
          "height": 287
        },
        "id": "zBoBFmfJ0IlC",
        "outputId": "5b94e44a-db25-4d7c-eb3f-f8d9b89d9196"
      },
      "execution_count": null,
      "outputs": [
        {
          "output_type": "execute_result",
          "data": {
            "text/plain": [
              "          UTC  Temperature[C]  Humidity[%]  TVOC[ppb]  eCO2[ppm]  Raw H2  \\\n",
              "0  1654733331          20.000        57.36          0        400   12306   \n",
              "1  1654733332          20.015        56.67          0        400   12345   \n",
              "2  1654733333          20.029        55.96          0        400   12374   \n",
              "3  1654733334          20.044        55.28          0        400   12390   \n",
              "4  1654733335          20.059        54.69          0        400   12403   \n",
              "\n",
              "   Raw Ethanol  Pressure[hPa]  PM1.0  PM2.5  NC0.5  NC1.0  NC2.5  CNT  \\\n",
              "0        18520        939.735    0.0    0.0    0.0    0.0    0.0    0   \n",
              "1        18651        939.744    0.0    0.0    0.0    0.0    0.0    1   \n",
              "2        18764        939.738    0.0    0.0    0.0    0.0    0.0    2   \n",
              "3        18849        939.736    0.0    0.0    0.0    0.0    0.0    3   \n",
              "4        18921        939.744    0.0    0.0    0.0    0.0    0.0    4   \n",
              "\n",
              "   Fire Alarm  \n",
              "0           0  \n",
              "1           0  \n",
              "2           0  \n",
              "3           0  \n",
              "4           0  "
            ],
            "text/html": [
              "\n",
              "  <div id=\"df-9402261d-71d2-4185-aa10-a28561c38ecd\">\n",
              "    <div class=\"colab-df-container\">\n",
              "      <div>\n",
              "<style scoped>\n",
              "    .dataframe tbody tr th:only-of-type {\n",
              "        vertical-align: middle;\n",
              "    }\n",
              "\n",
              "    .dataframe tbody tr th {\n",
              "        vertical-align: top;\n",
              "    }\n",
              "\n",
              "    .dataframe thead th {\n",
              "        text-align: right;\n",
              "    }\n",
              "</style>\n",
              "<table border=\"1\" class=\"dataframe\">\n",
              "  <thead>\n",
              "    <tr style=\"text-align: right;\">\n",
              "      <th></th>\n",
              "      <th>UTC</th>\n",
              "      <th>Temperature[C]</th>\n",
              "      <th>Humidity[%]</th>\n",
              "      <th>TVOC[ppb]</th>\n",
              "      <th>eCO2[ppm]</th>\n",
              "      <th>Raw H2</th>\n",
              "      <th>Raw Ethanol</th>\n",
              "      <th>Pressure[hPa]</th>\n",
              "      <th>PM1.0</th>\n",
              "      <th>PM2.5</th>\n",
              "      <th>NC0.5</th>\n",
              "      <th>NC1.0</th>\n",
              "      <th>NC2.5</th>\n",
              "      <th>CNT</th>\n",
              "      <th>Fire Alarm</th>\n",
              "    </tr>\n",
              "  </thead>\n",
              "  <tbody>\n",
              "    <tr>\n",
              "      <th>0</th>\n",
              "      <td>1654733331</td>\n",
              "      <td>20.000</td>\n",
              "      <td>57.36</td>\n",
              "      <td>0</td>\n",
              "      <td>400</td>\n",
              "      <td>12306</td>\n",
              "      <td>18520</td>\n",
              "      <td>939.735</td>\n",
              "      <td>0.0</td>\n",
              "      <td>0.0</td>\n",
              "      <td>0.0</td>\n",
              "      <td>0.0</td>\n",
              "      <td>0.0</td>\n",
              "      <td>0</td>\n",
              "      <td>0</td>\n",
              "    </tr>\n",
              "    <tr>\n",
              "      <th>1</th>\n",
              "      <td>1654733332</td>\n",
              "      <td>20.015</td>\n",
              "      <td>56.67</td>\n",
              "      <td>0</td>\n",
              "      <td>400</td>\n",
              "      <td>12345</td>\n",
              "      <td>18651</td>\n",
              "      <td>939.744</td>\n",
              "      <td>0.0</td>\n",
              "      <td>0.0</td>\n",
              "      <td>0.0</td>\n",
              "      <td>0.0</td>\n",
              "      <td>0.0</td>\n",
              "      <td>1</td>\n",
              "      <td>0</td>\n",
              "    </tr>\n",
              "    <tr>\n",
              "      <th>2</th>\n",
              "      <td>1654733333</td>\n",
              "      <td>20.029</td>\n",
              "      <td>55.96</td>\n",
              "      <td>0</td>\n",
              "      <td>400</td>\n",
              "      <td>12374</td>\n",
              "      <td>18764</td>\n",
              "      <td>939.738</td>\n",
              "      <td>0.0</td>\n",
              "      <td>0.0</td>\n",
              "      <td>0.0</td>\n",
              "      <td>0.0</td>\n",
              "      <td>0.0</td>\n",
              "      <td>2</td>\n",
              "      <td>0</td>\n",
              "    </tr>\n",
              "    <tr>\n",
              "      <th>3</th>\n",
              "      <td>1654733334</td>\n",
              "      <td>20.044</td>\n",
              "      <td>55.28</td>\n",
              "      <td>0</td>\n",
              "      <td>400</td>\n",
              "      <td>12390</td>\n",
              "      <td>18849</td>\n",
              "      <td>939.736</td>\n",
              "      <td>0.0</td>\n",
              "      <td>0.0</td>\n",
              "      <td>0.0</td>\n",
              "      <td>0.0</td>\n",
              "      <td>0.0</td>\n",
              "      <td>3</td>\n",
              "      <td>0</td>\n",
              "    </tr>\n",
              "    <tr>\n",
              "      <th>4</th>\n",
              "      <td>1654733335</td>\n",
              "      <td>20.059</td>\n",
              "      <td>54.69</td>\n",
              "      <td>0</td>\n",
              "      <td>400</td>\n",
              "      <td>12403</td>\n",
              "      <td>18921</td>\n",
              "      <td>939.744</td>\n",
              "      <td>0.0</td>\n",
              "      <td>0.0</td>\n",
              "      <td>0.0</td>\n",
              "      <td>0.0</td>\n",
              "      <td>0.0</td>\n",
              "      <td>4</td>\n",
              "      <td>0</td>\n",
              "    </tr>\n",
              "  </tbody>\n",
              "</table>\n",
              "</div>\n",
              "      <button class=\"colab-df-convert\" onclick=\"convertToInteractive('df-9402261d-71d2-4185-aa10-a28561c38ecd')\"\n",
              "              title=\"Convert this dataframe to an interactive table.\"\n",
              "              style=\"display:none;\">\n",
              "        \n",
              "  <svg xmlns=\"http://www.w3.org/2000/svg\" height=\"24px\"viewBox=\"0 0 24 24\"\n",
              "       width=\"24px\">\n",
              "    <path d=\"M0 0h24v24H0V0z\" fill=\"none\"/>\n",
              "    <path d=\"M18.56 5.44l.94 2.06.94-2.06 2.06-.94-2.06-.94-.94-2.06-.94 2.06-2.06.94zm-11 1L8.5 8.5l.94-2.06 2.06-.94-2.06-.94L8.5 2.5l-.94 2.06-2.06.94zm10 10l.94 2.06.94-2.06 2.06-.94-2.06-.94-.94-2.06-.94 2.06-2.06.94z\"/><path d=\"M17.41 7.96l-1.37-1.37c-.4-.4-.92-.59-1.43-.59-.52 0-1.04.2-1.43.59L10.3 9.45l-7.72 7.72c-.78.78-.78 2.05 0 2.83L4 21.41c.39.39.9.59 1.41.59.51 0 1.02-.2 1.41-.59l7.78-7.78 2.81-2.81c.8-.78.8-2.07 0-2.86zM5.41 20L4 18.59l7.72-7.72 1.47 1.35L5.41 20z\"/>\n",
              "  </svg>\n",
              "      </button>\n",
              "      \n",
              "  <style>\n",
              "    .colab-df-container {\n",
              "      display:flex;\n",
              "      flex-wrap:wrap;\n",
              "      gap: 12px;\n",
              "    }\n",
              "\n",
              "    .colab-df-convert {\n",
              "      background-color: #E8F0FE;\n",
              "      border: none;\n",
              "      border-radius: 50%;\n",
              "      cursor: pointer;\n",
              "      display: none;\n",
              "      fill: #1967D2;\n",
              "      height: 32px;\n",
              "      padding: 0 0 0 0;\n",
              "      width: 32px;\n",
              "    }\n",
              "\n",
              "    .colab-df-convert:hover {\n",
              "      background-color: #E2EBFA;\n",
              "      box-shadow: 0px 1px 2px rgba(60, 64, 67, 0.3), 0px 1px 3px 1px rgba(60, 64, 67, 0.15);\n",
              "      fill: #174EA6;\n",
              "    }\n",
              "\n",
              "    [theme=dark] .colab-df-convert {\n",
              "      background-color: #3B4455;\n",
              "      fill: #D2E3FC;\n",
              "    }\n",
              "\n",
              "    [theme=dark] .colab-df-convert:hover {\n",
              "      background-color: #434B5C;\n",
              "      box-shadow: 0px 1px 3px 1px rgba(0, 0, 0, 0.15);\n",
              "      filter: drop-shadow(0px 1px 2px rgba(0, 0, 0, 0.3));\n",
              "      fill: #FFFFFF;\n",
              "    }\n",
              "  </style>\n",
              "\n",
              "      <script>\n",
              "        const buttonEl =\n",
              "          document.querySelector('#df-9402261d-71d2-4185-aa10-a28561c38ecd button.colab-df-convert');\n",
              "        buttonEl.style.display =\n",
              "          google.colab.kernel.accessAllowed ? 'block' : 'none';\n",
              "\n",
              "        async function convertToInteractive(key) {\n",
              "          const element = document.querySelector('#df-9402261d-71d2-4185-aa10-a28561c38ecd');\n",
              "          const dataTable =\n",
              "            await google.colab.kernel.invokeFunction('convertToInteractive',\n",
              "                                                     [key], {});\n",
              "          if (!dataTable) return;\n",
              "\n",
              "          const docLinkHtml = 'Like what you see? Visit the ' +\n",
              "            '<a target=\"_blank\" href=https://colab.research.google.com/notebooks/data_table.ipynb>data table notebook</a>'\n",
              "            + ' to learn more about interactive tables.';\n",
              "          element.innerHTML = '';\n",
              "          dataTable['output_type'] = 'display_data';\n",
              "          await google.colab.output.renderOutput(dataTable, element);\n",
              "          const docLink = document.createElement('div');\n",
              "          docLink.innerHTML = docLinkHtml;\n",
              "          element.appendChild(docLink);\n",
              "        }\n",
              "      </script>\n",
              "    </div>\n",
              "  </div>\n",
              "  "
            ]
          },
          "metadata": {},
          "execution_count": 4
        }
      ]
    },
    {
      "cell_type": "markdown",
      "source": [
        "Collection of training data is performed with the help of IOT devices since the goal is to develop a AI based smoke detector device.\n",
        "Many different environments and fire sources have to be sampled to ensure a good dataset for training. The data was captured in different scenario (outdoor, indoor ecc.)\n",
        "\n",
        "The dataset is nearly 60.000 readings long. The sample rate is 1Hz for all sensors. To keep track of the data, a UTC timestamp is added to every sensor reading.\n",
        "Columns:\n",
        "- Timestamp UTC seconds\n",
        "- Air Temperature\n",
        "- Air Humidity\n",
        "- Total Volatile Organic compounds\n",
        "- co2 equivalent concentration\n",
        "- Raw molecular hydrogen+\n",
        "- Raw ethanol gas\n",
        "- Air pressure\n",
        "- particulate matter size < 1 µm\n",
        "- particulate matter size < 2.5 µm\n",
        "- Number concentration of particulate matter (NC) at 3 different dimensions (0.5,1,2.5)\n",
        "- Sampel counter\n",
        "- Ground truth --> 1 means that a fire is there."
      ],
      "metadata": {
        "id": "qv0wl57SFO3F"
      }
    },
    {
      "cell_type": "code",
      "source": [
        "array = np.array(data)\n",
        "X = array[:,:-1]     #feature vector\n",
        "Y = array[:,-1]      #classes"
      ],
      "metadata": {
        "id": "9s6DIvRV0mIo"
      },
      "execution_count": null,
      "outputs": []
    },
    {
      "cell_type": "code",
      "source": [
        "X[:1]"
      ],
      "metadata": {
        "colab": {
          "base_uri": "https://localhost:8080/"
        },
        "id": "iBbas-fH09ai",
        "outputId": "8fb563c8-73ef-46f8-893d-e08f0849af18"
      },
      "execution_count": null,
      "outputs": [
        {
          "output_type": "execute_result",
          "data": {
            "text/plain": [
              "array([[1.65473333e+09, 2.00000000e+01, 5.73600000e+01, 0.00000000e+00,\n",
              "        4.00000000e+02, 1.23060000e+04, 1.85200000e+04, 9.39735000e+02,\n",
              "        0.00000000e+00, 0.00000000e+00, 0.00000000e+00, 0.00000000e+00,\n",
              "        0.00000000e+00, 0.00000000e+00]])"
            ]
          },
          "metadata": {},
          "execution_count": 9
        }
      ]
    },
    {
      "cell_type": "code",
      "source": [
        "Y[:5]"
      ],
      "metadata": {
        "colab": {
          "base_uri": "https://localhost:8080/"
        },
        "id": "Qbipx_f516ME",
        "outputId": "1c4bfa92-83d9-42d1-9ea0-d8dc30490ebb"
      },
      "execution_count": null,
      "outputs": [
        {
          "output_type": "execute_result",
          "data": {
            "text/plain": [
              "array([0., 0., 0., 0., 0.])"
            ]
          },
          "metadata": {},
          "execution_count": 10
        }
      ]
    },
    {
      "cell_type": "markdown",
      "source": [
        "# 1. Exploring the dataset"
      ],
      "metadata": {
        "id": "tLgAkd-Z2Bon"
      }
    },
    {
      "cell_type": "markdown",
      "source": [
        "## First look"
      ],
      "metadata": {
        "id": "peEj74dfM8Ji"
      }
    },
    {
      "cell_type": "code",
      "source": [
        "data.shape"
      ],
      "metadata": {
        "colab": {
          "base_uri": "https://localhost:8080/"
        },
        "id": "eWdFbh692E5Z",
        "outputId": "8f921639-dc93-44e9-8170-4367343f6b57"
      },
      "execution_count": null,
      "outputs": [
        {
          "output_type": "execute_result",
          "data": {
            "text/plain": [
              "(62630, 15)"
            ]
          },
          "metadata": {},
          "execution_count": 11
        }
      ]
    },
    {
      "cell_type": "code",
      "source": [
        "data.dtypes"
      ],
      "metadata": {
        "colab": {
          "base_uri": "https://localhost:8080/"
        },
        "id": "nPfCU9ED2wjb",
        "outputId": "9c1aa437-e9fd-42c8-8af5-1d935fe6dd37"
      },
      "execution_count": null,
      "outputs": [
        {
          "output_type": "execute_result",
          "data": {
            "text/plain": [
              "UTC                 int64\n",
              "Temperature[C]    float64\n",
              "Humidity[%]       float64\n",
              "TVOC[ppb]           int64\n",
              "eCO2[ppm]           int64\n",
              "Raw H2              int64\n",
              "Raw Ethanol         int64\n",
              "Pressure[hPa]     float64\n",
              "PM1.0             float64\n",
              "PM2.5             float64\n",
              "NC0.5             float64\n",
              "NC1.0             float64\n",
              "NC2.5             float64\n",
              "CNT                 int64\n",
              "Fire Alarm          int64\n",
              "dtype: object"
            ]
          },
          "metadata": {},
          "execution_count": 12
        }
      ]
    },
    {
      "cell_type": "code",
      "source": [
        "data.describe()"
      ],
      "metadata": {
        "colab": {
          "base_uri": "https://localhost:8080/",
          "height": 364
        },
        "id": "Pg_YNS4720JV",
        "outputId": "c3e5d69a-e4eb-406a-9a8d-2f4f9d5ccffb"
      },
      "execution_count": null,
      "outputs": [
        {
          "output_type": "execute_result",
          "data": {
            "text/plain": [
              "                UTC  Temperature[C]   Humidity[%]     TVOC[ppb]     eCO2[ppm]  \\\n",
              "count  6.263000e+04    62630.000000  62630.000000  62630.000000  62630.000000   \n",
              "mean   1.654792e+09       15.970424     48.539499   1942.057528    670.021044   \n",
              "std    1.100025e+05       14.359576      8.865367   7811.589055   1905.885439   \n",
              "min    1.654712e+09      -22.010000     10.740000      0.000000    400.000000   \n",
              "25%    1.654743e+09       10.994250     47.530000    130.000000    400.000000   \n",
              "50%    1.654762e+09       20.130000     50.150000    981.000000    400.000000   \n",
              "75%    1.654778e+09       25.409500     53.240000   1189.000000    438.000000   \n",
              "max    1.655130e+09       59.930000     75.200000  60000.000000  60000.000000   \n",
              "\n",
              "             Raw H2   Raw Ethanol  Pressure[hPa]         PM1.0         PM2.5  \\\n",
              "count  62630.000000  62630.000000   62630.000000  62630.000000  62630.000000   \n",
              "mean   12942.453936  19754.257912     938.627649    100.594309    184.467770   \n",
              "std      272.464305    609.513156       1.331344    922.524245   1976.305615   \n",
              "min    10668.000000  15317.000000     930.852000      0.000000      0.000000   \n",
              "25%    12830.000000  19435.000000     938.700000      1.280000      1.340000   \n",
              "50%    12924.000000  19501.000000     938.816000      1.810000      1.880000   \n",
              "75%    13109.000000  20078.000000     939.418000      2.090000      2.180000   \n",
              "max    13803.000000  21410.000000     939.861000  14333.690000  45432.260000   \n",
              "\n",
              "              NC0.5         NC1.0         NC2.5           CNT    Fire Alarm  \n",
              "count  62630.000000  62630.000000  62630.000000  62630.000000  62630.000000  \n",
              "mean     491.463608    203.586487     80.049042  10511.386157      0.714626  \n",
              "std     4265.661251   2214.738556   1083.383189   7597.870997      0.451596  \n",
              "min        0.000000      0.000000      0.000000      0.000000      0.000000  \n",
              "25%        8.820000      1.384000      0.033000   3625.250000      0.000000  \n",
              "50%       12.450000      1.943000      0.044000   9336.000000      1.000000  \n",
              "75%       14.420000      2.249000      0.051000  17164.750000      1.000000  \n",
              "max    61482.030000  51914.680000  30026.438000  24993.000000      1.000000  "
            ],
            "text/html": [
              "\n",
              "  <div id=\"df-cf5d497a-609d-4030-b90e-313f20710867\">\n",
              "    <div class=\"colab-df-container\">\n",
              "      <div>\n",
              "<style scoped>\n",
              "    .dataframe tbody tr th:only-of-type {\n",
              "        vertical-align: middle;\n",
              "    }\n",
              "\n",
              "    .dataframe tbody tr th {\n",
              "        vertical-align: top;\n",
              "    }\n",
              "\n",
              "    .dataframe thead th {\n",
              "        text-align: right;\n",
              "    }\n",
              "</style>\n",
              "<table border=\"1\" class=\"dataframe\">\n",
              "  <thead>\n",
              "    <tr style=\"text-align: right;\">\n",
              "      <th></th>\n",
              "      <th>UTC</th>\n",
              "      <th>Temperature[C]</th>\n",
              "      <th>Humidity[%]</th>\n",
              "      <th>TVOC[ppb]</th>\n",
              "      <th>eCO2[ppm]</th>\n",
              "      <th>Raw H2</th>\n",
              "      <th>Raw Ethanol</th>\n",
              "      <th>Pressure[hPa]</th>\n",
              "      <th>PM1.0</th>\n",
              "      <th>PM2.5</th>\n",
              "      <th>NC0.5</th>\n",
              "      <th>NC1.0</th>\n",
              "      <th>NC2.5</th>\n",
              "      <th>CNT</th>\n",
              "      <th>Fire Alarm</th>\n",
              "    </tr>\n",
              "  </thead>\n",
              "  <tbody>\n",
              "    <tr>\n",
              "      <th>count</th>\n",
              "      <td>6.263000e+04</td>\n",
              "      <td>62630.000000</td>\n",
              "      <td>62630.000000</td>\n",
              "      <td>62630.000000</td>\n",
              "      <td>62630.000000</td>\n",
              "      <td>62630.000000</td>\n",
              "      <td>62630.000000</td>\n",
              "      <td>62630.000000</td>\n",
              "      <td>62630.000000</td>\n",
              "      <td>62630.000000</td>\n",
              "      <td>62630.000000</td>\n",
              "      <td>62630.000000</td>\n",
              "      <td>62630.000000</td>\n",
              "      <td>62630.000000</td>\n",
              "      <td>62630.000000</td>\n",
              "    </tr>\n",
              "    <tr>\n",
              "      <th>mean</th>\n",
              "      <td>1.654792e+09</td>\n",
              "      <td>15.970424</td>\n",
              "      <td>48.539499</td>\n",
              "      <td>1942.057528</td>\n",
              "      <td>670.021044</td>\n",
              "      <td>12942.453936</td>\n",
              "      <td>19754.257912</td>\n",
              "      <td>938.627649</td>\n",
              "      <td>100.594309</td>\n",
              "      <td>184.467770</td>\n",
              "      <td>491.463608</td>\n",
              "      <td>203.586487</td>\n",
              "      <td>80.049042</td>\n",
              "      <td>10511.386157</td>\n",
              "      <td>0.714626</td>\n",
              "    </tr>\n",
              "    <tr>\n",
              "      <th>std</th>\n",
              "      <td>1.100025e+05</td>\n",
              "      <td>14.359576</td>\n",
              "      <td>8.865367</td>\n",
              "      <td>7811.589055</td>\n",
              "      <td>1905.885439</td>\n",
              "      <td>272.464305</td>\n",
              "      <td>609.513156</td>\n",
              "      <td>1.331344</td>\n",
              "      <td>922.524245</td>\n",
              "      <td>1976.305615</td>\n",
              "      <td>4265.661251</td>\n",
              "      <td>2214.738556</td>\n",
              "      <td>1083.383189</td>\n",
              "      <td>7597.870997</td>\n",
              "      <td>0.451596</td>\n",
              "    </tr>\n",
              "    <tr>\n",
              "      <th>min</th>\n",
              "      <td>1.654712e+09</td>\n",
              "      <td>-22.010000</td>\n",
              "      <td>10.740000</td>\n",
              "      <td>0.000000</td>\n",
              "      <td>400.000000</td>\n",
              "      <td>10668.000000</td>\n",
              "      <td>15317.000000</td>\n",
              "      <td>930.852000</td>\n",
              "      <td>0.000000</td>\n",
              "      <td>0.000000</td>\n",
              "      <td>0.000000</td>\n",
              "      <td>0.000000</td>\n",
              "      <td>0.000000</td>\n",
              "      <td>0.000000</td>\n",
              "      <td>0.000000</td>\n",
              "    </tr>\n",
              "    <tr>\n",
              "      <th>25%</th>\n",
              "      <td>1.654743e+09</td>\n",
              "      <td>10.994250</td>\n",
              "      <td>47.530000</td>\n",
              "      <td>130.000000</td>\n",
              "      <td>400.000000</td>\n",
              "      <td>12830.000000</td>\n",
              "      <td>19435.000000</td>\n",
              "      <td>938.700000</td>\n",
              "      <td>1.280000</td>\n",
              "      <td>1.340000</td>\n",
              "      <td>8.820000</td>\n",
              "      <td>1.384000</td>\n",
              "      <td>0.033000</td>\n",
              "      <td>3625.250000</td>\n",
              "      <td>0.000000</td>\n",
              "    </tr>\n",
              "    <tr>\n",
              "      <th>50%</th>\n",
              "      <td>1.654762e+09</td>\n",
              "      <td>20.130000</td>\n",
              "      <td>50.150000</td>\n",
              "      <td>981.000000</td>\n",
              "      <td>400.000000</td>\n",
              "      <td>12924.000000</td>\n",
              "      <td>19501.000000</td>\n",
              "      <td>938.816000</td>\n",
              "      <td>1.810000</td>\n",
              "      <td>1.880000</td>\n",
              "      <td>12.450000</td>\n",
              "      <td>1.943000</td>\n",
              "      <td>0.044000</td>\n",
              "      <td>9336.000000</td>\n",
              "      <td>1.000000</td>\n",
              "    </tr>\n",
              "    <tr>\n",
              "      <th>75%</th>\n",
              "      <td>1.654778e+09</td>\n",
              "      <td>25.409500</td>\n",
              "      <td>53.240000</td>\n",
              "      <td>1189.000000</td>\n",
              "      <td>438.000000</td>\n",
              "      <td>13109.000000</td>\n",
              "      <td>20078.000000</td>\n",
              "      <td>939.418000</td>\n",
              "      <td>2.090000</td>\n",
              "      <td>2.180000</td>\n",
              "      <td>14.420000</td>\n",
              "      <td>2.249000</td>\n",
              "      <td>0.051000</td>\n",
              "      <td>17164.750000</td>\n",
              "      <td>1.000000</td>\n",
              "    </tr>\n",
              "    <tr>\n",
              "      <th>max</th>\n",
              "      <td>1.655130e+09</td>\n",
              "      <td>59.930000</td>\n",
              "      <td>75.200000</td>\n",
              "      <td>60000.000000</td>\n",
              "      <td>60000.000000</td>\n",
              "      <td>13803.000000</td>\n",
              "      <td>21410.000000</td>\n",
              "      <td>939.861000</td>\n",
              "      <td>14333.690000</td>\n",
              "      <td>45432.260000</td>\n",
              "      <td>61482.030000</td>\n",
              "      <td>51914.680000</td>\n",
              "      <td>30026.438000</td>\n",
              "      <td>24993.000000</td>\n",
              "      <td>1.000000</td>\n",
              "    </tr>\n",
              "  </tbody>\n",
              "</table>\n",
              "</div>\n",
              "      <button class=\"colab-df-convert\" onclick=\"convertToInteractive('df-cf5d497a-609d-4030-b90e-313f20710867')\"\n",
              "              title=\"Convert this dataframe to an interactive table.\"\n",
              "              style=\"display:none;\">\n",
              "        \n",
              "  <svg xmlns=\"http://www.w3.org/2000/svg\" height=\"24px\"viewBox=\"0 0 24 24\"\n",
              "       width=\"24px\">\n",
              "    <path d=\"M0 0h24v24H0V0z\" fill=\"none\"/>\n",
              "    <path d=\"M18.56 5.44l.94 2.06.94-2.06 2.06-.94-2.06-.94-.94-2.06-.94 2.06-2.06.94zm-11 1L8.5 8.5l.94-2.06 2.06-.94-2.06-.94L8.5 2.5l-.94 2.06-2.06.94zm10 10l.94 2.06.94-2.06 2.06-.94-2.06-.94-.94-2.06-.94 2.06-2.06.94z\"/><path d=\"M17.41 7.96l-1.37-1.37c-.4-.4-.92-.59-1.43-.59-.52 0-1.04.2-1.43.59L10.3 9.45l-7.72 7.72c-.78.78-.78 2.05 0 2.83L4 21.41c.39.39.9.59 1.41.59.51 0 1.02-.2 1.41-.59l7.78-7.78 2.81-2.81c.8-.78.8-2.07 0-2.86zM5.41 20L4 18.59l7.72-7.72 1.47 1.35L5.41 20z\"/>\n",
              "  </svg>\n",
              "      </button>\n",
              "      \n",
              "  <style>\n",
              "    .colab-df-container {\n",
              "      display:flex;\n",
              "      flex-wrap:wrap;\n",
              "      gap: 12px;\n",
              "    }\n",
              "\n",
              "    .colab-df-convert {\n",
              "      background-color: #E8F0FE;\n",
              "      border: none;\n",
              "      border-radius: 50%;\n",
              "      cursor: pointer;\n",
              "      display: none;\n",
              "      fill: #1967D2;\n",
              "      height: 32px;\n",
              "      padding: 0 0 0 0;\n",
              "      width: 32px;\n",
              "    }\n",
              "\n",
              "    .colab-df-convert:hover {\n",
              "      background-color: #E2EBFA;\n",
              "      box-shadow: 0px 1px 2px rgba(60, 64, 67, 0.3), 0px 1px 3px 1px rgba(60, 64, 67, 0.15);\n",
              "      fill: #174EA6;\n",
              "    }\n",
              "\n",
              "    [theme=dark] .colab-df-convert {\n",
              "      background-color: #3B4455;\n",
              "      fill: #D2E3FC;\n",
              "    }\n",
              "\n",
              "    [theme=dark] .colab-df-convert:hover {\n",
              "      background-color: #434B5C;\n",
              "      box-shadow: 0px 1px 3px 1px rgba(0, 0, 0, 0.15);\n",
              "      filter: drop-shadow(0px 1px 2px rgba(0, 0, 0, 0.3));\n",
              "      fill: #FFFFFF;\n",
              "    }\n",
              "  </style>\n",
              "\n",
              "      <script>\n",
              "        const buttonEl =\n",
              "          document.querySelector('#df-cf5d497a-609d-4030-b90e-313f20710867 button.colab-df-convert');\n",
              "        buttonEl.style.display =\n",
              "          google.colab.kernel.accessAllowed ? 'block' : 'none';\n",
              "\n",
              "        async function convertToInteractive(key) {\n",
              "          const element = document.querySelector('#df-cf5d497a-609d-4030-b90e-313f20710867');\n",
              "          const dataTable =\n",
              "            await google.colab.kernel.invokeFunction('convertToInteractive',\n",
              "                                                     [key], {});\n",
              "          if (!dataTable) return;\n",
              "\n",
              "          const docLinkHtml = 'Like what you see? Visit the ' +\n",
              "            '<a target=\"_blank\" href=https://colab.research.google.com/notebooks/data_table.ipynb>data table notebook</a>'\n",
              "            + ' to learn more about interactive tables.';\n",
              "          element.innerHTML = '';\n",
              "          dataTable['output_type'] = 'display_data';\n",
              "          await google.colab.output.renderOutput(dataTable, element);\n",
              "          const docLink = document.createElement('div');\n",
              "          docLink.innerHTML = docLinkHtml;\n",
              "          element.appendChild(docLink);\n",
              "        }\n",
              "      </script>\n",
              "    </div>\n",
              "  </div>\n",
              "  "
            ]
          },
          "metadata": {},
          "execution_count": 13
        }
      ]
    },
    {
      "cell_type": "markdown",
      "source": [
        "The are no missing values. The features are clearly on different scales, some modifications are needed. \n",
        "\n",
        "Temperature column is the only one having also negative values."
      ],
      "metadata": {
        "id": "0nzgZzPfHtLD"
      }
    },
    {
      "cell_type": "code",
      "source": [
        "data.groupby(\"Fire Alarm\").size()"
      ],
      "metadata": {
        "colab": {
          "base_uri": "https://localhost:8080/"
        },
        "id": "FglQJsmPDsxi",
        "outputId": "87c35c4e-7141-43f7-f452-95b28428a8bf"
      },
      "execution_count": null,
      "outputs": [
        {
          "output_type": "execute_result",
          "data": {
            "text/plain": [
              "Fire Alarm\n",
              "0    17873\n",
              "1    44757\n",
              "dtype: int64"
            ]
          },
          "metadata": {},
          "execution_count": 14
        }
      ]
    },
    {
      "cell_type": "markdown",
      "source": [
        "Classes seems to be skewed, with the number of positives that is way bigger than the negatives."
      ],
      "metadata": {
        "id": "3vDr3BXYHhqf"
      }
    },
    {
      "cell_type": "markdown",
      "source": [
        "## Plots"
      ],
      "metadata": {
        "id": "zPY1OwsTMziJ"
      }
    },
    {
      "cell_type": "code",
      "source": [
        "data.hist()                                        \n",
        "plt.rcParams[\"figure.figsize\"] = [16,16]  \n",
        "plt.show()"
      ],
      "metadata": {
        "colab": {
          "base_uri": "https://localhost:8080/",
          "height": 934
        },
        "id": "VXhRedoCFpE5",
        "outputId": "d061623a-7063-40a2-95f7-99c0404d5480"
      },
      "execution_count": null,
      "outputs": [
        {
          "output_type": "display_data",
          "data": {
            "text/plain": [
              "<Figure size 1152x1152 with 16 Axes>"
            ],
            "image/png": "[encoded data removed]"
          },
          "metadata": {
            "needs_background": "light"
          }
        }
      ]
    },
    {
      "cell_type": "code",
      "source": [
        "data.plot(kind='box',layout = (5,5),subplots=True, sharex=False, sharey=False)\n",
        "plt.show()"
      ],
      "metadata": {
        "colab": {
          "base_uri": "https://localhost:8080/",
          "height": 688
        },
        "id": "4HwyXqmXGbgW",
        "outputId": "2d855781-c1ca-448d-b1cd-0886603ccd8c"
      },
      "execution_count": null,
      "outputs": [
        {
          "output_type": "display_data",
          "data": {
            "text/plain": [
              "<Figure size 1440x1440 with 25 Axes>"
            ],
            "image/png": "[encoded data removed]"
          },
          "metadata": {
            "needs_background": "light"
          }
        }
      ]
    },
    {
      "cell_type": "code",
      "source": [
        "correlations = data.corr(method='pearson')\n",
        "fig = plt.figure()\n",
        "ax = fig.add_subplot(111)\n",
        "cax = ax.matshow(correlations, vmin=-1, vmax=1)\n",
        "fig.colorbar(cax)\n",
        "ticks = np.arange(0,15,1)\n",
        "ax.set_xticks(ticks)\n",
        "ax.set_yticks(ticks)\n",
        "ax.set_xticklabels(data.columns)\n",
        "ax.set_yticklabels(data.columns)\n",
        "plt.show()"
      ],
      "metadata": {
        "colab": {
          "base_uri": "https://localhost:8080/",
          "height": 1000
        },
        "id": "u1XkllbcObGi",
        "outputId": "85568fff-b6a9-4ffb-b44e-f34388a1a55d"
      },
      "execution_count": null,
      "outputs": [
        {
          "output_type": "display_data",
          "data": {
            "text/plain": [
              "<Figure size 1440x1440 with 2 Axes>"
            ],
            "image/png": "[encoded data removed]"
          },
          "metadata": {
            "needs_background": "light"
          }
        }
      ]
    },
    {
      "cell_type": "markdown",
      "source": [
        "From the hitmap some correlations are highlited:\n",
        "- like one would expect, the particulate counts and concentrations are strongly correlated within each other (NC and PM).\n",
        "- Seems that the fire alarm it's mostly correlated to the sample counter cnt, and a little bit to humidity\n",
        "- Good relation between humidity and pressure.\n",
        "- Good relation between H2 and ethanol\n",
        "- Good relation between particulates and both co2 and TVOC (understandable)"
      ],
      "metadata": {
        "id": "k3TMuzmf4UYn"
      }
    },
    {
      "cell_type": "code",
      "source": [
        "#from pandas.plotting import scatter_matrix\n",
        "#scatter_matrix(data)\n",
        "#plt.show()"
      ],
      "metadata": {
        "id": "yzNWG-UNPdq2"
      },
      "execution_count": null,
      "outputs": []
    },
    {
      "cell_type": "markdown",
      "source": [
        "# 2. Data preparation"
      ],
      "metadata": {
        "id": "VChhfF7xH9Im"
      }
    },
    {
      "cell_type": "markdown",
      "source": [
        "We apply a normalization since data are on different scales, and the distribution does not resemble a gaussian."
      ],
      "metadata": {
        "id": "VK2rgINI5YlO"
      }
    },
    {
      "cell_type": "code",
      "source": [
        "from sklearn.preprocessing import normalize\n",
        "X = normalize(X)\n",
        "X"
      ],
      "metadata": {
        "colab": {
          "base_uri": "https://localhost:8080/"
        },
        "id": "c9FnzFL5H_OJ",
        "outputId": "408745cd-9b22-4199-ffb7-ac54203fe7a1"
      },
      "execution_count": null,
      "outputs": [
        {
          "output_type": "execute_result",
          "data": {
            "text/plain": [
              "array([[1.00000000e+00, 1.20865396e-08, 3.46641957e-08, ...,\n",
              "        0.00000000e+00, 0.00000000e+00, 0.00000000e+00],\n",
              "       [1.00000000e+00, 1.20956045e-08, 3.42472100e-08, ...,\n",
              "        0.00000000e+00, 0.00000000e+00, 6.04326982e-10],\n",
              "       [1.00000000e+00, 1.21040651e-08, 3.38181379e-08, ...,\n",
              "        0.00000000e+00, 0.00000000e+00, 1.20865396e-09],\n",
              "       ...,\n",
              "       [1.00000000e+00, 1.13991043e-08, 9.57024495e-09, ...,\n",
              "        3.72780375e-10, 8.45854983e-12, 3.46860961e-06],\n",
              "       [1.00000000e+00, 1.15296076e-08, 9.69108137e-09, ...,\n",
              "        3.69155282e-10, 8.45854983e-12, 3.46921379e-06],\n",
              "       [1.00000000e+00, 1.16601109e-08, 9.98108879e-09, ...,\n",
              "        3.66738553e-10, 8.45854982e-12, 3.46981797e-06]])"
            ]
          },
          "metadata": {},
          "execution_count": 6
        }
      ]
    },
    {
      "cell_type": "markdown",
      "source": [
        "# 3. Feature selection\n"
      ],
      "metadata": {
        "id": "u6d11YIZOTd4"
      }
    },
    {
      "cell_type": "code",
      "source": [
        "from sklearn.feature_selection import SelectKBest\n",
        "from sklearn.decomposition import PCA\n",
        "from sklearn.feature_selection import RFE\n",
        "from sklearn.linear_model import LogisticRegression\n",
        "from sklearn.ensemble import ExtraTreesClassifier\n"
      ],
      "metadata": {
        "id": "2MhrIXT0OKAh"
      },
      "execution_count": null,
      "outputs": []
    },
    {
      "cell_type": "code",
      "source": [
        "#Recursive feature elimination\n",
        "model = LogisticRegression(solver='lbfgs', max_iter=5000)\n",
        "\n",
        "rfe = RFE(model, n_features_to_select=3)   # my choice: seek for 3 features\n",
        "fit = rfe.fit(X, Y)\n",
        "print(\"Num Features: %d\" % fit.n_features_)\n",
        "print(\"Selected Features: %s\" % fit.support_)\n",
        "print(\"Feature Ranking: %s\" % fit.ranking_)\n",
        "print(\"Features %s\" % data.columns[:-1])"
      ],
      "metadata": {
        "colab": {
          "base_uri": "https://localhost:8080/"
        },
        "id": "eFlgIYGlO0w2",
        "outputId": "b7591b37-e1c3-4103-96d3-ddeccb5a1dcf"
      },
      "execution_count": null,
      "outputs": [
        {
          "output_type": "stream",
          "name": "stdout",
          "text": [
            "Num Features: 3\n",
            "Selected Features: [ True False False  True False False False False False False False False\n",
            " False  True]\n",
            "Feature Ranking: [ 1 12 11  1  5  3  7 10  8  6  2  4  9  1]\n",
            "Features Index(['UTC', 'Temperature[C]', 'Humidity[%]', 'TVOC[ppb]', 'eCO2[ppm]',\n",
            "       'Raw H2', 'Raw Ethanol', 'Pressure[hPa]', 'PM1.0', 'PM2.5', 'NC0.5',\n",
            "       'NC1.0', 'NC2.5', 'CNT'],\n",
            "      dtype='object')\n"
          ]
        }
      ]
    },
    {
      "cell_type": "code",
      "source": [
        "# Feature Importance with Extra Trees Classifier\n",
        "model = ExtraTreesClassifier()\n",
        "#model = ExtraTreesClassifier(n_estimators=100)\n",
        "model.fit(X, Y)\n",
        "print(model.feature_importances_,\"\\n\",data.columns[:-1])"
      ],
      "metadata": {
        "colab": {
          "base_uri": "https://localhost:8080/"
        },
        "id": "PJ821McqOE_h",
        "outputId": "bfa4efd7-4e04-45c9-d01c-272d2abe903c"
      },
      "execution_count": null,
      "outputs": [
        {
          "output_type": "stream",
          "name": "stdout",
          "text": [
            "[0.         0.         0.         0.11478438 0.0315846  0.08874614\n",
            " 0.18613535 0.         0.00346322 0.00318175 0.00597751 0.00273705\n",
            " 0.001027   0.56236301] \n",
            " Index(['UTC', 'Temperature[C]', 'Humidity[%]', 'TVOC[ppb]', 'eCO2[ppm]',\n",
            "       'Raw H2', 'Raw Ethanol', 'Pressure[hPa]', 'PM1.0', 'PM2.5', 'NC0.5',\n",
            "       'NC1.0', 'NC2.5', 'CNT'],\n",
            "      dtype='object')\n"
          ]
        }
      ]
    },
    {
      "cell_type": "markdown",
      "source": [
        "Both method selects CNT and TVOC as some of the most important features. This is reasonable, since we noted that the feature with the strongest relation to the fire alarm was exactly the CNT.\n",
        "\n",
        "First method selects also UTC, while second one selects Ehanol.\n",
        "\n",
        "I will start selecting these 4, and then see what to do.\n"
      ],
      "metadata": {
        "id": "TyG-Yfi8PEk9"
      }
    },
    {
      "cell_type": "code",
      "source": [
        "data_sel = data[[\"UTC\",\"TVOC[ppb]\",\"Raw Ethanol\",\"CNT\"]]\n",
        "#data_sel.head()\n",
        "X_sel = np.array(data_sel)\n",
        "X_sel"
      ],
      "metadata": {
        "colab": {
          "base_uri": "https://localhost:8080/"
        },
        "id": "w22Rt6hN8K2I",
        "outputId": "f2c28374-e79d-4374-aed0-cb79f2d321aa"
      },
      "execution_count": null,
      "outputs": [
        {
          "output_type": "execute_result",
          "data": {
            "text/plain": [
              "array([[1654733331,          0,      18520,          0],\n",
              "       [1654733332,          0,      18651,          1],\n",
              "       [1654733333,          0,      18764,          2],\n",
              "       ...,\n",
              "       [1655130049,        627,      20582,       5741],\n",
              "       [1655130050,        638,      20566,       5742],\n",
              "       [1655130051,        643,      20543,       5743]])"
            ]
          },
          "metadata": {},
          "execution_count": 11
        }
      ]
    },
    {
      "cell_type": "markdown",
      "source": [
        "# 4. Resampling\n",
        "Applying k-fold cross validation to the dataset."
      ],
      "metadata": {
        "id": "Xo0CVwboPuNM"
      }
    },
    {
      "cell_type": "code",
      "source": [
        "from sklearn.model_selection import KFold\n",
        "from sklearn.model_selection import cross_val_score  "
      ],
      "metadata": {
        "id": "3wPRkaYkQOJy"
      },
      "execution_count": null,
      "outputs": []
    },
    {
      "cell_type": "code",
      "source": [
        "# Evaluate using Cross Validation\n",
        "num_folds = 5\n",
        "seed = 7\n",
        "\n",
        "kfold = KFold(n_splits=num_folds, random_state=seed, shuffle=True)\n",
        "#model = LogisticRegression()\n",
        "model = LogisticRegression(solver='lbfgs', max_iter=500)\n",
        "results = cross_val_score(model, X_sel, Y, cv=kfold)\n",
        "print(\"Accuracy: %.3f%% (%.3f%%)\" % (results.mean()*100.0, results.std()*100.0))"
      ],
      "metadata": {
        "colab": {
          "base_uri": "https://localhost:8080/"
        },
        "id": "8VC-9Ke3P3Cf",
        "outputId": "b8a7d387-a7f8-4016-df18-4a929fb07081"
      },
      "execution_count": null,
      "outputs": [
        {
          "output_type": "stream",
          "name": "stdout",
          "text": [
            "Accuracy: 71.463% (0.209%)\n"
          ]
        }
      ]
    },
    {
      "cell_type": "markdown",
      "source": [
        "The accuracy is not that good, let's try with different algorithms."
      ],
      "metadata": {
        "id": "Qt607enO9IM-"
      }
    },
    {
      "cell_type": "markdown",
      "source": [
        "# 5. Algorithm selection"
      ],
      "metadata": {
        "id": "bVj8SI67ROgE"
      }
    },
    {
      "cell_type": "code",
      "source": [
        "from sklearn.tree import DecisionTreeClassifier                             # <---\n",
        "from sklearn.neighbors import KNeighborsClassifier                          # <---\n",
        "from sklearn.discriminant_analysis import LinearDiscriminantAnalysis        # <---\n",
        "from sklearn.naive_bayes import GaussianNB                                  # <---\n",
        "from sklearn.svm import SVC "
      ],
      "metadata": {
        "id": "hWbAIqcpRX5l"
      },
      "execution_count": null,
      "outputs": []
    },
    {
      "cell_type": "code",
      "source": [
        "# Compare Algorithms\n",
        "\n",
        "# prepare models\n",
        "models = []\n",
        "models.append(( 'LR'   , LogisticRegression(solver='lbfgs', max_iter=500)))    # avoid warnings with (solver='lbfgs', max_iter=500)\n",
        "models.append(( 'LDA'  , LinearDiscriminantAnalysis()))\n",
        "models.append(( 'KNN'  , KNeighborsClassifier()))\n",
        "models.append(( 'CART' , DecisionTreeClassifier()))\n",
        "models.append(( 'NB'   , GaussianNB()))\n",
        "\n",
        "# evaluate each model in turn\n",
        "results = []\n",
        "names = []\n",
        "scoring = 'accuracy'\n",
        "for name, model in models:\n",
        "  kfold = KFold(n_splits=5, random_state=7, shuffle=True)\n",
        "  cv_results = cross_val_score(model, X_sel, Y, cv=kfold, scoring=scoring)\n",
        "  results.append(cv_results)\n",
        "  names.append(name)\n",
        "  msg = \"%s: %f (%f)\" % (name, cv_results.mean(), cv_results.std())\n",
        "  print(msg)"
      ],
      "metadata": {
        "colab": {
          "base_uri": "https://localhost:8080/"
        },
        "id": "eAI5BF--RTcL",
        "outputId": "31c3c97e-077b-499f-ea59-fd293e25c402"
      },
      "execution_count": null,
      "outputs": [
        {
          "output_type": "stream",
          "name": "stdout",
          "text": [
            "LR: 0.714626 (0.002095)\n",
            "LDA: 0.923312 (0.002043)\n",
            "KNN: 0.999808 (0.000119)\n",
            "CART: 0.999872 (0.000039)\n",
            "NB: 0.874214 (0.002312)\n"
          ]
        }
      ]
    },
    {
      "cell_type": "markdown",
      "source": [
        "Almost perfect accuracy with KNN and CART!"
      ],
      "metadata": {
        "id": "Yr3pFksB9XCe"
      }
    },
    {
      "cell_type": "markdown",
      "source": [
        "# 6. Performance metrics"
      ],
      "metadata": {
        "id": "6XZE1V6fSIhd"
      }
    },
    {
      "cell_type": "code",
      "source": [
        "from sklearn.model_selection import train_test_split\n",
        "from sklearn.model_selection import cross_val_predict\n",
        "from sklearn.metrics import classification_report "
      ],
      "metadata": {
        "id": "uB8Asf02Sw0t"
      },
      "execution_count": null,
      "outputs": []
    },
    {
      "cell_type": "code",
      "source": [
        "seed = 7\n",
        "kfold = KFold(n_splits=5, random_state=seed, shuffle=True)\n",
        "model2 = KNeighborsClassifier()\n",
        "model = DecisionTreeClassifier()"
      ],
      "metadata": {
        "id": "BfshhpZfTIln"
      },
      "execution_count": null,
      "outputs": []
    },
    {
      "cell_type": "markdown",
      "source": [
        "## Logloss"
      ],
      "metadata": {
        "id": "CAAdQLb0ToT_"
      }
    },
    {
      "cell_type": "code",
      "source": [
        "scoring = 'neg_log_loss' \n",
        "\n",
        "results = cross_val_score(model, X_sel, Y, cv=kfold, scoring=scoring)\n",
        "print(\"CART Logloss: %.3f (%.3f)\" % (results.mean(), results.std()))"
      ],
      "metadata": {
        "colab": {
          "base_uri": "https://localhost:8080/"
        },
        "id": "udXebaFSTF6E",
        "outputId": "44116c06-0f26-4acf-bf9c-cd9d8d1220b0"
      },
      "execution_count": null,
      "outputs": [
        {
          "output_type": "stream",
          "name": "stdout",
          "text": [
            "CART Logloss: -0.005 (0.002)\n"
          ]
        }
      ]
    },
    {
      "cell_type": "code",
      "source": [
        "results = cross_val_score(model2, X_sel, Y, cv=kfold, scoring=scoring)\n",
        "print(\"KNN Logloss: %.3f (%.3f)\" % (results.mean(), results.std()))"
      ],
      "metadata": {
        "colab": {
          "base_uri": "https://localhost:8080/"
        },
        "id": "KGxkv6EATZsb",
        "outputId": "06902e1d-bea8-4afc-b915-ef1833b2bd8d"
      },
      "execution_count": null,
      "outputs": [
        {
          "output_type": "stream",
          "name": "stdout",
          "text": [
            "KNN Logloss: -0.004 (0.004)\n"
          ]
        }
      ]
    },
    {
      "cell_type": "markdown",
      "source": [
        "The 2 algorithms are almost equal."
      ],
      "metadata": {
        "id": "eg1wlvonTh6Y"
      }
    },
    {
      "cell_type": "markdown",
      "source": [
        "## Accuracy"
      ],
      "metadata": {
        "id": "J3qKUzm1odk7"
      }
    },
    {
      "cell_type": "code",
      "source": [
        "#With outlier\n",
        "scoring = 'accuracy'                                            \n",
        "results = cross_val_score(model, X_sel, Y, cv=kfold, scoring=scoring)\n",
        "print(\"CART Accuracy: %.3f (%.3f)\" % (results.mean(), results.std())) "
      ],
      "metadata": {
        "colab": {
          "base_uri": "https://localhost:8080/"
        },
        "id": "vlYWoJEUofVd",
        "outputId": "00ee4050-504e-4756-892a-833c35f72ffa"
      },
      "execution_count": null,
      "outputs": [
        {
          "output_type": "stream",
          "name": "stdout",
          "text": [
            "CART Accuracy: 1.000 (0.000)\n"
          ]
        }
      ]
    },
    {
      "cell_type": "code",
      "source": [
        "#Now we check if removing the outliers makes some difference:\n",
        "scoring = 'accuracy'                                            \n",
        "results = cross_val_score(model2, X_sel, Y, cv=kfold, scoring=scoring)\n",
        "print(\"KNN Accuracy: %.3f (%.3f)\" % (results.mean(), results.std())) "
      ],
      "metadata": {
        "colab": {
          "base_uri": "https://localhost:8080/"
        },
        "id": "Iu1rMeV40T9o",
        "outputId": "7f449dfd-68e2-42a4-e92c-f5d9586cd1cf"
      },
      "execution_count": null,
      "outputs": [
        {
          "output_type": "stream",
          "name": "stdout",
          "text": [
            "KNN Accuracy: 1.000 (0.000)\n"
          ]
        }
      ]
    },
    {
      "cell_type": "markdown",
      "source": [
        "No difference after the outlier removal in this case."
      ],
      "metadata": {
        "id": "_V-RF8dn2EEq"
      }
    },
    {
      "cell_type": "markdown",
      "source": [
        "## Roc Curve"
      ],
      "metadata": {
        "id": "qWW5nHAR-O4W"
      }
    },
    {
      "cell_type": "code",
      "source": [
        "# Cross Validation Classification ROC AUC\n",
        "scoring = 'roc_auc'\n",
        "results = cross_val_score(model, X_sel, Y, cv=kfold, scoring=scoring)\n",
        "print(\"CART AUC: %.3f (%.3f)\" % (results.mean(), results.std()))"
      ],
      "metadata": {
        "colab": {
          "base_uri": "https://localhost:8080/"
        },
        "id": "kDiZuBHa-Qmd",
        "outputId": "304555de-e4c0-4c0e-bc0d-83b5c5ffa241"
      },
      "execution_count": null,
      "outputs": [
        {
          "output_type": "stream",
          "name": "stdout",
          "text": [
            "CART AUC: 1.000 (0.000)\n"
          ]
        }
      ]
    },
    {
      "cell_type": "code",
      "source": [
        "# Cross Validation Classification ROC AUC\n",
        "scoring = 'roc_auc'\n",
        "results = cross_val_score(model2, X_sel, Y, cv=kfold, scoring=scoring)\n",
        "print(\"KNN AUC: %.3f (%.3f)\" % (results.mean(), results.std()))"
      ],
      "metadata": {
        "colab": {
          "base_uri": "https://localhost:8080/"
        },
        "id": "mTQO8l2k-gK-",
        "outputId": "941cd680-7af7-4156-b22c-163a13941001"
      },
      "execution_count": null,
      "outputs": [
        {
          "output_type": "stream",
          "name": "stdout",
          "text": [
            "KNN AUC: 1.000 (0.000)\n"
          ]
        }
      ]
    },
    {
      "cell_type": "markdown",
      "source": [
        "## Confusion matrix"
      ],
      "metadata": {
        "id": "Rv1CKN_x-TmS"
      }
    },
    {
      "cell_type": "code",
      "source": [
        "from sklearn.metrics import confusion_matrix\n",
        "test_size = 0.33\n",
        "\n",
        "# Cross Validation Classification Confusion Matrix\n",
        "X_train, X_test, Y_train, Y_test = train_test_split(X_sel, Y, test_size=test_size, random_state=seed)\n",
        "model.fit(X_train, Y_train)\n",
        "predicted = model.predict(X_test)\n",
        "matrix1 = confusion_matrix(Y_test, predicted)              # <---\n",
        "print(matrix1)"
      ],
      "metadata": {
        "colab": {
          "base_uri": "https://localhost:8080/"
        },
        "id": "RSpOta28vTx5",
        "outputId": "23120c7b-1c3a-4af3-ec27-6d9610cbc9f7"
      },
      "execution_count": null,
      "outputs": [
        {
          "output_type": "stream",
          "name": "stdout",
          "text": [
            "[[ 5888     2]\n",
            " [    2 14776]]\n"
          ]
        }
      ]
    },
    {
      "cell_type": "code",
      "source": [
        "ax = sns.heatmap(matrix1, annot=True, cmap=\"Reds\", vmin=0, vmax=300)\n",
        "\n",
        "ax.set_title('CART Confusion Matrix\\n\\n');\n",
        "ax.set_xlabel('\\nActual Values')\n",
        "ax.set_ylabel('Predicted Values ');\n",
        "\n",
        "## Ticket labels - List must be in alphabetical order\n",
        "ax.xaxis.set_ticklabels(['Negative','Positive'])\n",
        "ax.yaxis.set_ticklabels(['Negative','Positive'])\n",
        "\n",
        "## Display the visualization of the Confusion Matrix.\n",
        "#plt.savefig('High_CM.png', dpi = 300, bbox_inches='tight')\n",
        "plt.show()"
      ],
      "metadata": {
        "colab": {
          "base_uri": "https://localhost:8080/",
          "height": 337
        },
        "id": "KBQRTU-A-YNd",
        "outputId": "75b0ceb3-3d0f-42fd-9141-333a0c38b484"
      },
      "execution_count": null,
      "outputs": [
        {
          "output_type": "display_data",
          "data": {
            "text/plain": [
              "<Figure size 432x288 with 2 Axes>"
            ],
            "image/png": "[encoded data removed]"
          },
          "metadata": {
            "needs_background": "light"
          }
        }
      ]
    },
    {
      "cell_type": "code",
      "source": [
        "from sklearn.metrics import confusion_matrix\n",
        "test_size = 0.33\n",
        "\n",
        "# Cross Validation Classification Confusion Matrix\n",
        "X_train, X_test, Y_train, Y_test = train_test_split(X_sel, Y, test_size=test_size, random_state=seed)\n",
        "model2.fit(X_train, Y_train)\n",
        "predicted = model2.predict(X_test)\n",
        "matrix2 = confusion_matrix(Y_test, predicted)              # <---\n",
        "print(matrix2)"
      ],
      "metadata": {
        "colab": {
          "base_uri": "https://localhost:8080/"
        },
        "id": "8in5CeX7-VIX",
        "outputId": "36780557-a0ba-44c1-fc8e-c425c64677ad"
      },
      "execution_count": null,
      "outputs": [
        {
          "output_type": "stream",
          "name": "stdout",
          "text": [
            "[[ 5889     1]\n",
            " [    2 14776]]\n"
          ]
        }
      ]
    },
    {
      "cell_type": "code",
      "source": [
        "ax = sns.heatmap(matrix2, annot=True, cmap=\"Reds\", vmin=0, vmax=300)\n",
        "\n",
        "ax.set_title('KNN Confusion Matrix\\n\\n');\n",
        "ax.set_xlabel('\\nActual Values')\n",
        "ax.set_ylabel('Predicted Values ');\n",
        "\n",
        "## Ticket labels - List must be in alphabetical order\n",
        "ax.xaxis.set_ticklabels(['Negative','Positive'])\n",
        "ax.yaxis.set_ticklabels(['Negative','Positive'])\n",
        "\n",
        "## Display the visualization of the Confusion Matrix.\n",
        "#plt.savefig('High_CM.png', dpi = 300, bbox_inches='tight')\n",
        "plt.show()"
      ],
      "metadata": {
        "colab": {
          "base_uri": "https://localhost:8080/",
          "height": 337
        },
        "id": "8XyetSo0vcS4",
        "outputId": "65a8d441-e1b2-45d3-9038-a350dea91007"
      },
      "execution_count": null,
      "outputs": [
        {
          "output_type": "display_data",
          "data": {
            "text/plain": [
              "<Figure size 432x288 with 2 Axes>"
            ],
            "image/png": "[encoded data removed]"
          },
          "metadata": {
            "needs_background": "light"
          }
        }
      ]
    },
    {
      "cell_type": "markdown",
      "source": [
        "## Classification Report\n"
      ],
      "metadata": {
        "id": "C8jkE4IfTrKw"
      }
    },
    {
      "cell_type": "code",
      "source": [
        "#CART\n",
        "test_size = 0.33\n",
        "seed = 7\n",
        "\n",
        "#Report generated with the train_test_split\n",
        "X_train, X_test, Y_train, Y_test = train_test_split(X_sel, Y, test_size=test_size,\n",
        "    random_state=seed)\n",
        "model.fit(X_train, Y_train)\n",
        "predicted = model.predict(X_test)\n",
        "report = classification_report(Y_test, predicted)               # <---\n",
        "print(report)                  "
      ],
      "metadata": {
        "colab": {
          "base_uri": "https://localhost:8080/"
        },
        "id": "cymB6GN4TvHB",
        "outputId": "71140576-34f9-436e-d9a3-35a28226a7b8"
      },
      "execution_count": null,
      "outputs": [
        {
          "output_type": "stream",
          "name": "stdout",
          "text": [
            "              precision    recall  f1-score   support\n",
            "\n",
            "         0.0       1.00      1.00      1.00      5890\n",
            "         1.0       1.00      1.00      1.00     14778\n",
            "\n",
            "    accuracy                           1.00     20668\n",
            "   macro avg       1.00      1.00      1.00     20668\n",
            "weighted avg       1.00      1.00      1.00     20668\n",
            "\n"
          ]
        }
      ]
    },
    {
      "cell_type": "code",
      "source": [
        "#KNN\n",
        "test_size = 0.33\n",
        "seed = 7\n",
        "\n",
        "#Report generated with the train_test_split\n",
        "X_train, X_test, Y_train, Y_test = train_test_split(X_sel, Y, test_size=test_size,\n",
        "    random_state=seed)\n",
        "model2.fit(X_train, Y_train)\n",
        "predicted = model2.predict(X_test)\n",
        "report = classification_report(Y_test, predicted)               # <---\n",
        "print(report)  "
      ],
      "metadata": {
        "colab": {
          "base_uri": "https://localhost:8080/"
        },
        "id": "fvLYFgCF_hfH",
        "outputId": "5ce6dd6a-b7b7-4f99-b525-192f6cfa6a86"
      },
      "execution_count": null,
      "outputs": [
        {
          "output_type": "stream",
          "name": "stdout",
          "text": [
            "              precision    recall  f1-score   support\n",
            "\n",
            "         0.0       1.00      1.00      1.00      5890\n",
            "         1.0       1.00      1.00      1.00     14778\n",
            "\n",
            "    accuracy                           1.00     20668\n",
            "   macro avg       1.00      1.00      1.00     20668\n",
            "weighted avg       1.00      1.00      1.00     20668\n",
            "\n"
          ]
        }
      ]
    }
  ]
}